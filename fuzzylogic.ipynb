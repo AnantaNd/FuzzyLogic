{
  "nbformat": 4,
  "nbformat_minor": 0,
  "metadata": {
    "colab": {
      "name": "fuzzylogic.ipynb",
      "provenance": [],
      "collapsed_sections": [],
      "include_colab_link": true
    },
    "kernelspec": {
      "name": "python3",
      "display_name": "Python 3"
    },
    "language_info": {
      "name": "python"
    }
  },
  "cells": [
    {
      "cell_type": "markdown",
      "metadata": {
        "id": "view-in-github",
        "colab_type": "text"
      },
      "source": [
        "<a href=\"https://colab.research.google.com/github/AnantaNd/FuzzyLogic/blob/main/fuzzylogic.ipynb\" target=\"_parent\"><img src=\"https://colab.research.google.com/assets/colab-badge.svg\" alt=\"Open In Colab\"/></a>"
      ]
    },
    {
      "cell_type": "code",
      "metadata": {
        "id": "jx1B16tl-Gtm"
      },
      "source": [
        "import pandas as pd \n",
        "import matplotlib.pyplot as plt\n",
        "import numpy as np"
      ],
      "execution_count": 1,
      "outputs": []
    },
    {
      "cell_type": "code",
      "metadata": {
        "id": "BAr0e6oW-MNW",
        "colab": {
          "base_uri": "https://localhost:8080/"
        },
        "outputId": "e3733bc9-bf8c-4773-c302-80a2699652cd"
      },
      "source": [
        "#import data excel\n",
        "\n",
        "!gdown --id 1zZEAMrEEdbkkV3R7hopJEyztpQgN6K2p\n",
        "file = pd.read_excel('Beasiswa.xlsx')\n"
      ],
      "execution_count": 2,
      "outputs": [
        {
          "output_type": "stream",
          "text": [
            "Downloading...\n",
            "From: https://drive.google.com/uc?id=1zZEAMrEEdbkkV3R7hopJEyztpQgN6K2p\n",
            "To: /content/Beasiswa.xlsx\n",
            "\r  0% 0.00/10.8k [00:00<?, ?B/s]\r100% 10.8k/10.8k [00:00<00:00, 20.2MB/s]\n"
          ],
          "name": "stdout"
        }
      ]
    },
    {
      "cell_type": "code",
      "metadata": {
        "colab": {
          "base_uri": "https://localhost:8080/"
        },
        "id": "AnH15IUn4Tsk",
        "outputId": "5e838258-05c6-4042-9af9-e0bb10363102"
      },
      "source": [
        "print(file)"
      ],
      "execution_count": 3,
      "outputs": [
        {
          "output_type": "stream",
          "text": [
            "     id  gaji  ipk\n",
            "0     1    10  2.8\n",
            "1     2     7  3.2\n",
            "2     3    12  3.2\n",
            "3     4    19  3.6\n",
            "4     5    13  3.7\n",
            "..  ...   ...  ...\n",
            "95   96    11  2.3\n",
            "96   97    12  2.6\n",
            "97   98     7  2.7\n",
            "98   99    17  3.4\n",
            "99  100    15  2.6\n",
            "\n",
            "[100 rows x 3 columns]\n"
          ],
          "name": "stdout"
        }
      ]
    },
    {
      "cell_type": "code",
      "metadata": {
        "id": "4wb7v8Ew-NHq"
      },
      "source": [
        "#fungsi keanggotaan\n",
        "def trapesium(nilai,a,b,c,d):\n",
        "  hasil = 0\n",
        "  if (nilai <= a) or (nilai >= d):\n",
        "    hasil = 0\n",
        "  elif (a < nilai < b):\n",
        "    hasil = ((nilai-a)/(b-a))\n",
        "  elif (b <= nilai <= c):\n",
        "    hasil = 1\n",
        "  elif (c < nilai <= d):\n",
        "    hasil = (-(nilai-d)/(d-c))\n",
        "  return hasil\n"
      ],
      "execution_count": 4,
      "outputs": []
    },
    {
      "cell_type": "code",
      "metadata": {
        "id": "Vkh4NTub-RJx"
      },
      "source": [
        "def segitiga(nilai, a, b, c):\n",
        "  hasil = 0\n",
        "  if(nilai <= a ) or (nilai >= c):\n",
        "    hasil = 0\n",
        "  elif (a < nilai <= b):\n",
        "    hasil = (nilai-a)/(b-a)\n",
        "  elif (b < nilai <= c):\n",
        "    hasil = (-(nilai-c)/(c-b))\n",
        "  \n",
        "  return hasil"
      ],
      "execution_count": 5,
      "outputs": []
    },
    {
      "cell_type": "code",
      "metadata": {
        "id": "o_nYKmSN-Tln"
      },
      "source": [
        "#fuzifikasi\n",
        "def gaji(nilai):\n",
        "  #batasan gaji\n",
        "  #rendah < 6\n",
        "  #sedang 6 - 10\n",
        "  #tinggi 10 - 18\n",
        "  #sangat tinggi > 18\n",
        "  \n",
        "  batas_gaji = [4, 6, 8, 10, 16, 18, 32]\n",
        "  batas = batas_gaji\n",
        "\n",
        "  rendah = trapesium(nilai, 0, 0, batas[0], batas[1])\n",
        "  sedang = trapesium(nilai, batas[0], batas[1], batas[2], batas[3])\n",
        "  tinggi = trapesium(nilai, batas[2], batas[3], batas[4], batas[5])\n",
        "  sangat_tinggi = trapesium(nilai, batas[4], batas[5], batas[6], batas[6])\n",
        "\n",
        "  return [rendah, sedang, tinggi, sangat_tinggi]"
      ],
      "execution_count": 6,
      "outputs": []
    },
    {
      "cell_type": "code",
      "metadata": {
        "id": "jD0kqAqc-aL4"
      },
      "source": [
        "def fuzzy_gaji(data):\n",
        "  hasil = [] #menampung hasil fuzzyfikasi\n",
        "  for i in range(len(data)):\n",
        "    temp = []\n",
        "    temp = gaji(data[\"gaji\"][i])\n",
        "    hasil.append(temp)\n",
        "  return hasil"
      ],
      "execution_count": 7,
      "outputs": []
    },
    {
      "cell_type": "code",
      "metadata": {
        "id": "E4FKLVPa-XLa"
      },
      "source": [
        "#fuzzifikasi\n",
        "def ipk(nilai):\n",
        "  #batasan ipk\n",
        "  #rendah < 2.2\n",
        "  #sedang 2.2 - 3\n",
        "  #tinggi > 3.5\n",
        "\n",
        "  batas_ipk = [2.2, 3, 3.5, 6 ]\n",
        "  batas = batas_ipk\n",
        "\n",
        "  rendah = trapesium(nilai, 0, 0, batas[0], batas[1])\n",
        "  sedang = segitiga(nilai, batas[0], batas[1], batas[2])\n",
        "  tinggi = trapesium(nilai, batas[1], batas[2], batas[3], batas[3])\n",
        "  \n",
        "  return [rendah, sedang, tinggi]"
      ],
      "execution_count": 8,
      "outputs": []
    },
    {
      "cell_type": "code",
      "metadata": {
        "id": "eN2h2n6w-i3D"
      },
      "source": [
        "def fuzzy_ipk(data):\n",
        "  hasil = [] #menampung hasil fuzzyfikasi\n",
        "  for i in range(len(data)):\n",
        "    temp = []\n",
        "    temp = ipk(data[\"ipk\"][i])\n",
        "    hasil.append(temp)\n",
        "  return hasil"
      ],
      "execution_count": 9,
      "outputs": []
    },
    {
      "cell_type": "code",
      "metadata": {
        "colab": {
          "base_uri": "https://localhost:8080/",
          "height": 336
        },
        "id": "iJ6cpzo4-mbA",
        "outputId": "110f13c6-a6b2-4f51-e008-2c555a7e6645"
      },
      "source": [
        "def plot_gaji():\n",
        "  rendah = [gaji(i)[0] for i in range(25)]\n",
        "  sedang = [gaji(i)[1] for i in range(25)]\n",
        "  tinggi = [gaji(i)[2] for i in range(25)]\n",
        "  sangat_tinggi = [gaji(i)[3] for i in range(25)]\n",
        "\n",
        "  koor_x = np.arange(0, 25, 1)\n",
        "  fig, ax = plt.subplots(nrows=1, figsize=(10,5))\n",
        "  ax.plot(koor_x, rendah, 'red', linewidth=1, label='rendah')\n",
        "  ax.plot(koor_x, sedang, 'green', linewidth=1, label='sedang')\n",
        "  ax.plot(koor_x, tinggi, 'blue', linewidth=1, label='tinggi')\n",
        "  ax.plot(koor_x, sangat_tinggi, 'yellow', linewidth=1, label='sangat_tinggi')\n",
        "\n",
        "  ax.set_title(\"gaji\")\n",
        "  plt.grid()\n",
        "  plt.show()\n",
        "\n",
        "plot_gaji()\n"
      ],
      "execution_count": 10,
      "outputs": [
        {
          "output_type": "display_data",
          "data": {
            "image/png": "[encoded data removed]",
            "text/plain": [
              "<Figure size 720x360 with 1 Axes>"
            ]
          },
          "metadata": {
            "tags": [],
            "needs_background": "light"
          }
        }
      ]
    },
    {
      "cell_type": "code",
      "metadata": {
        "colab": {
          "base_uri": "https://localhost:8080/",
          "height": 336
        },
        "id": "T5tbsNrp-o99",
        "outputId": "4628427c-5cb3-4c12-858b-5e23d8305753"
      },
      "source": [
        "def plot_ipk():\n",
        "  rendah = [ipk(i)[0] for i in range(6)]\n",
        "  sedang = [ipk(i)[1] for i in range(6)]\n",
        "  tinggi = [ipk(i)[2] for i in range(6)]\n",
        "\n",
        "  koor_x = np.arange(0, 6, 1)\n",
        "  fig, ax = plt.subplots(nrows=1, figsize=(10,5))\n",
        "  ax.plot(koor_x, rendah, 'red', linewidth=1, label='rendah')\n",
        "  ax.plot(koor_x, sedang, 'green', linewidth=1, label='sedang')\n",
        "  ax.plot(koor_x, tinggi, 'blue', linewidth=1, label='tinggi')\n",
        "\n",
        "  ax.set_title(\"ipk\")\n",
        "  plt.grid()\n",
        "  plt.show()\n",
        "\n",
        "plot_ipk()"
      ],
      "execution_count": 11,
      "outputs": [
        {
          "output_type": "display_data",
          "data": {
            "image/png": "[encoded data removed]",
            "text/plain": [
              "<Figure size 720x360 with 1 Axes>"
            ]
          },
          "metadata": {
            "tags": [],
            "needs_background": "light"
          }
        }
      ]
    },
    {
      "cell_type": "markdown",
      "metadata": {
        "id": "-9vMa1AfJ2Pa"
      },
      "source": [
        "![image.png](data:image/png;base64,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)"
      ]
    },
    {
      "cell_type": "code",
      "metadata": {
        "id": "RCxdWze6-wNg"
      },
      "source": [
        "def inference(x, salary, gpa):\n",
        "  hasil = []\n",
        "  for i in range(len(x)):\n",
        "    fuzz_gaji = salary[i]\n",
        "    fuzz_ipk = gpa[i]\n",
        "\n",
        "    ditolak = []\n",
        "    diterima = []\n",
        "\n",
        "    for x in range(len(fuzz_ipk)):\n",
        "      temp = 0\n",
        "      for y in range(len(fuzz_gaji)):\n",
        "        if x == 0 and y == 0:\n",
        "          temp = min(fuzz_gaji[y], fuzz_ipk[x])\n",
        "          ditolak.append(temp)\n",
        "        elif x == 0 and y == 1:\n",
        "          temp = min(fuzz_gaji[y], fuzz_ipk[x])\n",
        "          ditolak.append(temp)\n",
        "        elif x == 0 and y == 2:\n",
        "          temp = min(fuzz_gaji[y], fuzz_ipk[x])\n",
        "          ditolak.append(temp)\n",
        "        elif x == 0 and y == 3:\n",
        "          temp = min(fuzz_gaji[y], fuzz_ipk[x])\n",
        "          ditolak.append(temp)\n",
        "        elif x == 1 and y == 0:\n",
        "          temp = min(fuzz_gaji[y], fuzz_ipk[x])\n",
        "          diterima.append(temp)\n",
        "        elif x == 1 and y == 1:\n",
        "          temp = min(fuzz_gaji[y], fuzz_ipk[x])\n",
        "          diterima.append(temp)\n",
        "        elif x == 1 and y == 2:\n",
        "          temp = min(fuzz_gaji[y], fuzz_ipk[x])\n",
        "          ditolak.append(temp)\n",
        "        elif x == 1 and y == 3:\n",
        "          temp = min(fuzz_gaji[y], fuzz_ipk[x])\n",
        "          ditolak.append(temp)\n",
        "        elif x == 2 and y == 0:\n",
        "          temp = min(fuzz_gaji[y], fuzz_ipk[x])\n",
        "          diterima.append(temp)\n",
        "        elif x == 2 and y == 1:\n",
        "          temp = min(fuzz_gaji[y], fuzz_ipk[x])\n",
        "          diterima.append(temp)\n",
        "        elif x == 2 and y == 2:\n",
        "          temp == min(fuzz_gaji[y], fuzz_ipk[x])\n",
        "          diterima.append(temp)\n",
        "        elif x == 2 and y == 3:\n",
        "          temp = min(fuzz_gaji[y], fuzz_ipk[x])\n",
        "          ditolak.append(temp)\n",
        "          \n",
        "    hasil_ditolak = max(ditolak)\n",
        "    #print(\"ditolak\")\n",
        "    #print(hasil_ditolak)\n",
        "    hasil_diterima = max(diterima)\n",
        "    #print(\"diterima\")\n",
        "    #print(hasil_diterima)\n",
        "\n",
        "    hasil.append([hasil_ditolak,hasil_diterima])\n",
        "\n",
        "  return hasil"
      ],
      "execution_count": 12,
      "outputs": []
    },
    {
      "cell_type": "code",
      "metadata": {
        "colab": {
          "base_uri": "https://localhost:8080/",
          "height": 269
        },
        "id": "R-9VG9E--0_5",
        "outputId": "74398a72-652a-4895-9743-7e74acc7f96e"
      },
      "source": [
        "def plot_kelayakan():\n",
        "  plt.axvline(50, 0, 1, color='red', label='ditolak')\n",
        "  plt.axvline(70, 0, 1, color='green', label='diterima')\n",
        "  plt.show()\n",
        "\n",
        "plot_kelayakan()"
      ],
      "execution_count": 13,
      "outputs": [
        {
          "output_type": "display_data",
          "data": {
            "image/png": "[encoded data removed]",
            "text/plain": [
              "<Figure size 432x288 with 1 Axes>"
            ]
          },
          "metadata": {
            "tags": [],
            "needs_background": "light"
          }
        }
      ]
    },
    {
      "cell_type": "code",
      "metadata": {
        "id": "6vxyjrwa-5gE"
      },
      "source": [
        "def defuzzy(data): #sugeno\n",
        "  hasil=[]\n",
        "  for i in data:\n",
        "    a = (i[0]*50) + (i[1]*70)\n",
        "    b = i[0] + i[1]\n",
        "    temp = (a+1)/(b+1) \n",
        "    hasil.append(temp)\n",
        "  \n",
        "  return hasil"
      ],
      "execution_count": 14,
      "outputs": []
    },
    {
      "cell_type": "code",
      "metadata": {
        "id": "SrKD-lmX-7OR",
        "colab": {
          "base_uri": "https://localhost:8080/",
          "height": 424
        },
        "outputId": "4706d0d0-5092-483b-c22e-a5877403b4a9"
      },
      "source": [
        "def main():\n",
        "  \n",
        "  hasil_fuzz_gaji = fuzzy_gaji(file)\n",
        "  #print(\"gaji\")\n",
        "  #print(hasil_fuzz_gaji)\n",
        "\n",
        "  hasil_fuzz_ipk = fuzzy_ipk(file)\n",
        "  #print(\"ipk\" )\n",
        "  #print(hasil_fuzz_ipk)\n",
        "\n",
        "  hasil_inferen = inference(file, hasil_fuzz_gaji, hasil_fuzz_ipk)\n",
        "  hasil_defuzi = defuzzy(hasil_inferen)\n",
        "  result=file[\"score\"] = hasil_defuzi\n",
        "  result= file.sort_values(by=\"score\", ascending=False)\n",
        "  return result\n",
        "\n",
        "\n",
        "main()"
      ],
      "execution_count": 15,
      "outputs": [
        {
          "output_type": "execute_result",
          "data": {
            "text/html": [
              "<div>\n",
              "<style scoped>\n",
              "    .dataframe tbody tr th:only-of-type {\n",
              "        vertical-align: middle;\n",
              "    }\n",
              "\n",
              "    .dataframe tbody tr th {\n",
              "        vertical-align: top;\n",
              "    }\n",
              "\n",
              "    .dataframe thead th {\n",
              "        text-align: right;\n",
              "    }\n",
              "</style>\n",
              "<table border=\"1\" class=\"dataframe\">\n",
              "  <thead>\n",
              "    <tr style=\"text-align: right;\">\n",
              "      <th></th>\n",
              "      <th>id</th>\n",
              "      <th>gaji</th>\n",
              "      <th>ipk</th>\n",
              "      <th>score</th>\n",
              "    </tr>\n",
              "  </thead>\n",
              "  <tbody>\n",
              "    <tr>\n",
              "      <th>47</th>\n",
              "      <td>48</td>\n",
              "      <td>7</td>\n",
              "      <td>4.0</td>\n",
              "      <td>35.5</td>\n",
              "    </tr>\n",
              "    <tr>\n",
              "      <th>77</th>\n",
              "      <td>78</td>\n",
              "      <td>3</td>\n",
              "      <td>4.0</td>\n",
              "      <td>35.5</td>\n",
              "    </tr>\n",
              "    <tr>\n",
              "      <th>63</th>\n",
              "      <td>64</td>\n",
              "      <td>2</td>\n",
              "      <td>3.8</td>\n",
              "      <td>35.5</td>\n",
              "    </tr>\n",
              "    <tr>\n",
              "      <th>62</th>\n",
              "      <td>63</td>\n",
              "      <td>2</td>\n",
              "      <td>3.7</td>\n",
              "      <td>35.5</td>\n",
              "    </tr>\n",
              "    <tr>\n",
              "      <th>80</th>\n",
              "      <td>81</td>\n",
              "      <td>2</td>\n",
              "      <td>3.7</td>\n",
              "      <td>35.5</td>\n",
              "    </tr>\n",
              "    <tr>\n",
              "      <th>...</th>\n",
              "      <td>...</td>\n",
              "      <td>...</td>\n",
              "      <td>...</td>\n",
              "      <td>...</td>\n",
              "    </tr>\n",
              "    <tr>\n",
              "      <th>21</th>\n",
              "      <td>22</td>\n",
              "      <td>12</td>\n",
              "      <td>3.6</td>\n",
              "      <td>1.0</td>\n",
              "    </tr>\n",
              "    <tr>\n",
              "      <th>4</th>\n",
              "      <td>5</td>\n",
              "      <td>13</td>\n",
              "      <td>3.7</td>\n",
              "      <td>1.0</td>\n",
              "    </tr>\n",
              "    <tr>\n",
              "      <th>76</th>\n",
              "      <td>77</td>\n",
              "      <td>12</td>\n",
              "      <td>3.8</td>\n",
              "      <td>1.0</td>\n",
              "    </tr>\n",
              "    <tr>\n",
              "      <th>24</th>\n",
              "      <td>25</td>\n",
              "      <td>16</td>\n",
              "      <td>3.6</td>\n",
              "      <td>1.0</td>\n",
              "    </tr>\n",
              "    <tr>\n",
              "      <th>32</th>\n",
              "      <td>33</td>\n",
              "      <td>10</td>\n",
              "      <td>3.9</td>\n",
              "      <td>1.0</td>\n",
              "    </tr>\n",
              "  </tbody>\n",
              "</table>\n",
              "<p>100 rows × 4 columns</p>\n",
              "</div>"
            ],
            "text/plain": [
              "    id  gaji  ipk  score\n",
              "47  48     7  4.0   35.5\n",
              "77  78     3  4.0   35.5\n",
              "63  64     2  3.8   35.5\n",
              "62  63     2  3.7   35.5\n",
              "80  81     2  3.7   35.5\n",
              "..  ..   ...  ...    ...\n",
              "21  22    12  3.6    1.0\n",
              "4    5    13  3.7    1.0\n",
              "76  77    12  3.8    1.0\n",
              "24  25    16  3.6    1.0\n",
              "32  33    10  3.9    1.0\n",
              "\n",
              "[100 rows x 4 columns]"
            ]
          },
          "metadata": {
            "tags": []
          },
          "execution_count": 15
        }
      ]
    },
    {
      "cell_type": "code",
      "metadata": {
        "id": "L8rL6Rz_7zb-",
        "colab": {
          "base_uri": "https://localhost:8080/"
        },
        "outputId": "aea86430-dab0-4e68-e914-e0bc989dedb2"
      },
      "source": [
        "file = main()\n",
        "df = pd.DataFrame(file)\n",
        "df.to_excel (\"keluaran.xlsx\", index = False, header=True)\n",
        "\n",
        "print('DataFrame berhasil dibuat')\n"
      ],
      "execution_count": 16,
      "outputs": [
        {
          "output_type": "stream",
          "text": [
            "DataFrame berhasil dibuat\n"
          ],
          "name": "stdout"
        }
      ]
    }
  ]
}